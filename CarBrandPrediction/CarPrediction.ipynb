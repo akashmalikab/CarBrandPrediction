{
 "cells": [
  {
   "cell_type": "code",
   "execution_count": 1,
   "metadata": {},
   "outputs": [
    {
     "name": "stderr",
     "output_type": "stream",
     "text": [
      "Using TensorFlow backend.\n"
     ]
    }
   ],
   "source": [
    "##Importing Libraries\n",
    "import tensorflow as tf\n",
    "from keras.preprocessing.image import ImageDataGenerator"
   ]
  },
  {
   "cell_type": "code",
   "execution_count": 2,
   "metadata": {},
   "outputs": [
    {
     "name": "stdout",
     "output_type": "stream",
     "text": [
      "Found 605 images belonging to 3 classes.\n"
     ]
    }
   ],
   "source": [
    "##Data Preprocessing\n",
    "train_datagen = ImageDataGenerator(\n",
    "        rescale=1./255,\n",
    "        shear_range=0.2,\n",
    "        zoom_range=0.2,\n",
    "        horizontal_flip=True)\n",
    "training_set = train_datagen.flow_from_directory(\n",
    "        'Datasets\\Train',\n",
    "        target_size=(64, 64),\n",
    "        batch_size=32,\n",
    "        class_mode='categorical')"
   ]
  },
  {
   "cell_type": "code",
   "execution_count": 3,
   "metadata": {},
   "outputs": [
    {
     "name": "stdout",
     "output_type": "stream",
     "text": [
      "Found 58 images belonging to 3 classes.\n"
     ]
    }
   ],
   "source": [
    "test_set = train_datagen.flow_from_directory(\n",
    "        'Datasets\\Test',\n",
    "        target_size=(64, 64),\n",
    "        batch_size=32,\n",
    "        class_mode='categorical')"
   ]
  },
  {
   "cell_type": "code",
   "execution_count": 4,
   "metadata": {},
   "outputs": [],
   "source": [
    "##Building CNN"
   ]
  },
  {
   "cell_type": "code",
   "execution_count": 5,
   "metadata": {},
   "outputs": [],
   "source": [
    "cnn = tf.keras.models.Sequential()\n"
   ]
  },
  {
   "cell_type": "code",
   "execution_count": 6,
   "metadata": {},
   "outputs": [],
   "source": [
    "cnn.add(tf.keras.layers.Convolution2D(filters=32,kernel_size=(3,3),activation='relu',input_shape=(64,64,3)))\n"
   ]
  },
  {
   "cell_type": "code",
   "execution_count": 7,
   "metadata": {},
   "outputs": [],
   "source": [
    "cnn.add(tf.keras.layers.MaxPooling2D(pool_size=(2,2)))\n"
   ]
  },
  {
   "cell_type": "code",
   "execution_count": 8,
   "metadata": {},
   "outputs": [],
   "source": [
    "cnn.add(tf.keras.layers.Convolution2D(filters=32,kernel_size=(3,3),activation='relu'))\n",
    "cnn.add(tf.keras.layers.MaxPooling2D(pool_size=(2,2)))\n"
   ]
  },
  {
   "cell_type": "code",
   "execution_count": 9,
   "metadata": {},
   "outputs": [],
   "source": [
    "cnn.add(tf.keras.layers.Flatten())\n"
   ]
  },
  {
   "cell_type": "code",
   "execution_count": 10,
   "metadata": {},
   "outputs": [],
   "source": [
    "cnn.add(tf.keras.layers.Dense(units=130,activation='relu'))"
   ]
  },
  {
   "cell_type": "code",
   "execution_count": null,
   "metadata": {},
   "outputs": [],
   "source": []
  },
  {
   "cell_type": "code",
   "execution_count": 11,
   "metadata": {},
   "outputs": [],
   "source": [
    "##Adding Output Layer\n",
    "cnn.add(tf.keras.layers.Dense(units=3,activation='softmax'))"
   ]
  },
  {
   "cell_type": "code",
   "execution_count": 12,
   "metadata": {},
   "outputs": [],
   "source": [
    "##Training the model\n",
    "cnn.compile(optimizer='adam',loss='categorical_crossentropy',metrics=['categorical_accuracy','accuracy'])"
   ]
  },
  {
   "cell_type": "code",
   "execution_count": 13,
   "metadata": {},
   "outputs": [
    {
     "name": "stdout",
     "output_type": "stream",
     "text": [
      "Model: \"sequential\"\n",
      "_________________________________________________________________\n",
      "Layer (type)                 Output Shape              Param #   \n",
      "=================================================================\n",
      "conv2d (Conv2D)              (None, 62, 62, 32)        896       \n",
      "_________________________________________________________________\n",
      "max_pooling2d (MaxPooling2D) (None, 31, 31, 32)        0         \n",
      "_________________________________________________________________\n",
      "conv2d_1 (Conv2D)            (None, 29, 29, 32)        9248      \n",
      "_________________________________________________________________\n",
      "max_pooling2d_1 (MaxPooling2 (None, 14, 14, 32)        0         \n",
      "_________________________________________________________________\n",
      "flatten (Flatten)            (None, 6272)              0         \n",
      "_________________________________________________________________\n",
      "dense (Dense)                (None, 130)               815490    \n",
      "_________________________________________________________________\n",
      "dense_1 (Dense)              (None, 3)                 393       \n",
      "=================================================================\n",
      "Total params: 826,027\n",
      "Trainable params: 826,027\n",
      "Non-trainable params: 0\n",
      "_________________________________________________________________\n"
     ]
    }
   ],
   "source": [
    "cnn.summary()"
   ]
  },
  {
   "cell_type": "code",
   "execution_count": 14,
   "metadata": {},
   "outputs": [
    {
     "name": "stdout",
     "output_type": "stream",
     "text": [
      "WARNING:tensorflow:sample_weight modes were coerced from\n",
      "  ...\n",
      "    to  \n",
      "  ['...']\n",
      "WARNING:tensorflow:sample_weight modes were coerced from\n",
      "  ...\n",
      "    to  \n",
      "  ['...']\n",
      "Train for 19 steps, validate for 2 steps\n",
      "Epoch 1/100\n",
      "19/19 [==============================] - 2s 100ms/step - loss: 1.0660 - categorical_accuracy: 0.4116 - accuracy: 0.4116 - val_loss: 1.1997 - val_categorical_accuracy: 0.4655 - val_accuracy: 0.4655\n",
      "Epoch 2/100\n",
      "19/19 [==============================] - 1s 74ms/step - loss: 0.9736 - categorical_accuracy: 0.5058 - accuracy: 0.5058 - val_loss: 1.0655 - val_categorical_accuracy: 0.5345 - val_accuracy: 0.5345\n",
      "Epoch 3/100\n",
      "19/19 [==============================] - 1s 79ms/step - loss: 0.9308 - categorical_accuracy: 0.5455 - accuracy: 0.5455 - val_loss: 1.1167 - val_categorical_accuracy: 0.4655 - val_accuracy: 0.4655\n",
      "Epoch 4/100\n",
      "19/19 [==============================] - 1s 73ms/step - loss: 0.8774 - categorical_accuracy: 0.5570 - accuracy: 0.5570 - val_loss: 1.0464 - val_categorical_accuracy: 0.5172 - val_accuracy: 0.5172\n",
      "Epoch 5/100\n",
      "19/19 [==============================] - 1s 75ms/step - loss: 0.8413 - categorical_accuracy: 0.6033 - accuracy: 0.6033 - val_loss: 0.9801 - val_categorical_accuracy: 0.5345 - val_accuracy: 0.5345\n",
      "Epoch 6/100\n",
      "19/19 [==============================] - 1s 74ms/step - loss: 0.7784 - categorical_accuracy: 0.6215 - accuracy: 0.6215 - val_loss: 0.9536 - val_categorical_accuracy: 0.5000 - val_accuracy: 0.5000\n",
      "Epoch 7/100\n",
      "19/19 [==============================] - 1s 74ms/step - loss: 0.7538 - categorical_accuracy: 0.6463 - accuracy: 0.6463 - val_loss: 0.9379 - val_categorical_accuracy: 0.6034 - val_accuracy: 0.6034\n",
      "Epoch 8/100\n",
      "19/19 [==============================] - 1s 77ms/step - loss: 0.6906 - categorical_accuracy: 0.6860 - accuracy: 0.6860 - val_loss: 0.8490 - val_categorical_accuracy: 0.6379 - val_accuracy: 0.6379\n",
      "Epoch 9/100\n",
      "19/19 [==============================] - 1s 73ms/step - loss: 0.6457 - categorical_accuracy: 0.7157 - accuracy: 0.7157 - val_loss: 0.7664 - val_categorical_accuracy: 0.6897 - val_accuracy: 0.6897\n",
      "Epoch 10/100\n",
      "19/19 [==============================] - 1s 72ms/step - loss: 0.6075 - categorical_accuracy: 0.7273 - accuracy: 0.7273 - val_loss: 0.7966 - val_categorical_accuracy: 0.7241 - val_accuracy: 0.7241\n",
      "Epoch 11/100\n",
      "19/19 [==============================] - 1s 77ms/step - loss: 0.6017 - categorical_accuracy: 0.7438 - accuracy: 0.7438 - val_loss: 0.9659 - val_categorical_accuracy: 0.5517 - val_accuracy: 0.5517\n",
      "Epoch 12/100\n",
      "19/19 [==============================] - 1s 77ms/step - loss: 0.5551 - categorical_accuracy: 0.7851 - accuracy: 0.7851 - val_loss: 0.8651 - val_categorical_accuracy: 0.7069 - val_accuracy: 0.7069\n",
      "Epoch 13/100\n",
      "19/19 [==============================] - 1s 75ms/step - loss: 0.5486 - categorical_accuracy: 0.7702 - accuracy: 0.7702 - val_loss: 0.8969 - val_categorical_accuracy: 0.7069 - val_accuracy: 0.7069\n",
      "Epoch 14/100\n",
      "19/19 [==============================] - 1s 78ms/step - loss: 0.4957 - categorical_accuracy: 0.8017 - accuracy: 0.8017 - val_loss: 0.9956 - val_categorical_accuracy: 0.6897 - val_accuracy: 0.6897\n",
      "Epoch 15/100\n",
      "19/19 [==============================] - 1s 79ms/step - loss: 0.5169 - categorical_accuracy: 0.7835 - accuracy: 0.7835 - val_loss: 1.1085 - val_categorical_accuracy: 0.6207 - val_accuracy: 0.6207\n",
      "Epoch 16/100\n",
      "19/19 [==============================] - 1s 76ms/step - loss: 0.4519 - categorical_accuracy: 0.8083 - accuracy: 0.8083 - val_loss: 0.9822 - val_categorical_accuracy: 0.6379 - val_accuracy: 0.6379\n",
      "Epoch 17/100\n",
      "19/19 [==============================] - 1s 73ms/step - loss: 0.4502 - categorical_accuracy: 0.8182 - accuracy: 0.8182 - val_loss: 1.1964 - val_categorical_accuracy: 0.6552 - val_accuracy: 0.6552\n",
      "Epoch 18/100\n",
      "19/19 [==============================] - 2s 79ms/step - loss: 0.3670 - categorical_accuracy: 0.8678 - accuracy: 0.8678 - val_loss: 0.9707 - val_categorical_accuracy: 0.6724 - val_accuracy: 0.6724\n",
      "Epoch 19/100\n",
      "19/19 [==============================] - 1s 74ms/step - loss: 0.3540 - categorical_accuracy: 0.8579 - accuracy: 0.8579 - val_loss: 1.0829 - val_categorical_accuracy: 0.6207 - val_accuracy: 0.6207\n",
      "Epoch 20/100\n",
      "19/19 [==============================] - 1s 75ms/step - loss: 0.3292 - categorical_accuracy: 0.8711 - accuracy: 0.8711 - val_loss: 1.0958 - val_categorical_accuracy: 0.7414 - val_accuracy: 0.7414\n",
      "Epoch 21/100\n",
      "19/19 [==============================] - 1s 77ms/step - loss: 0.3744 - categorical_accuracy: 0.8595 - accuracy: 0.8595 - val_loss: 1.5185 - val_categorical_accuracy: 0.5345 - val_accuracy: 0.5345\n",
      "Epoch 22/100\n",
      "19/19 [==============================] - 2s 82ms/step - loss: 0.3342 - categorical_accuracy: 0.8711 - accuracy: 0.8711 - val_loss: 1.1432 - val_categorical_accuracy: 0.6897 - val_accuracy: 0.6897\n",
      "Epoch 23/100\n",
      "19/19 [==============================] - 2s 82ms/step - loss: 0.3130 - categorical_accuracy: 0.8711 - accuracy: 0.8711 - val_loss: 1.2952 - val_categorical_accuracy: 0.5345 - val_accuracy: 0.5345\n",
      "Epoch 24/100\n",
      "19/19 [==============================] - 2s 81ms/step - loss: 0.3418 - categorical_accuracy: 0.8562 - accuracy: 0.8562 - val_loss: 1.3995 - val_categorical_accuracy: 0.6379 - val_accuracy: 0.6379\n",
      "Epoch 25/100\n",
      "19/19 [==============================] - 1s 78ms/step - loss: 0.3019 - categorical_accuracy: 0.8826 - accuracy: 0.8826 - val_loss: 1.1707 - val_categorical_accuracy: 0.7414 - val_accuracy: 0.7414\n",
      "Epoch 26/100\n",
      "19/19 [==============================] - 2s 80ms/step - loss: 0.2565 - categorical_accuracy: 0.9091 - accuracy: 0.9091 - val_loss: 1.0555 - val_categorical_accuracy: 0.7069 - val_accuracy: 0.7069\n",
      "Epoch 27/100\n",
      "19/19 [==============================] - 2s 79ms/step - loss: 0.2467 - categorical_accuracy: 0.9074 - accuracy: 0.9074 - val_loss: 1.3553 - val_categorical_accuracy: 0.6552 - val_accuracy: 0.6552\n",
      "Epoch 28/100\n",
      "19/19 [==============================] - 2s 82ms/step - loss: 0.2815 - categorical_accuracy: 0.8876 - accuracy: 0.8876 - val_loss: 1.2737 - val_categorical_accuracy: 0.6034 - val_accuracy: 0.6034\n",
      "Epoch 29/100\n",
      "19/19 [==============================] - 1s 79ms/step - loss: 0.2904 - categorical_accuracy: 0.9025 - accuracy: 0.9025 - val_loss: 1.2525 - val_categorical_accuracy: 0.6379 - val_accuracy: 0.6379\n",
      "Epoch 30/100\n",
      "19/19 [==============================] - 2s 79ms/step - loss: 0.2095 - categorical_accuracy: 0.9388 - accuracy: 0.9388 - val_loss: 1.2116 - val_categorical_accuracy: 0.7069 - val_accuracy: 0.7069\n",
      "Epoch 31/100\n",
      "19/19 [==============================] - 1s 72ms/step - loss: 0.2133 - categorical_accuracy: 0.9207 - accuracy: 0.9207 - val_loss: 1.7253 - val_categorical_accuracy: 0.6034 - val_accuracy: 0.6034\n",
      "Epoch 32/100\n",
      "19/19 [==============================] - 1s 73ms/step - loss: 0.2341 - categorical_accuracy: 0.9107 - accuracy: 0.9107 - val_loss: 1.2821 - val_categorical_accuracy: 0.7241 - val_accuracy: 0.7241\n",
      "Epoch 33/100\n",
      "19/19 [==============================] - 2s 80ms/step - loss: 0.1793 - categorical_accuracy: 0.9405 - accuracy: 0.9405 - val_loss: 1.1971 - val_categorical_accuracy: 0.7414 - val_accuracy: 0.7414\n",
      "Epoch 34/100\n",
      "19/19 [==============================] - 2s 88ms/step - loss: 0.1608 - categorical_accuracy: 0.9438 - accuracy: 0.9438 - val_loss: 1.4200 - val_categorical_accuracy: 0.7586 - val_accuracy: 0.7586\n",
      "Epoch 35/100\n",
      "19/19 [==============================] - 2s 85ms/step - loss: 0.1518 - categorical_accuracy: 0.9372 - accuracy: 0.9372 - val_loss: 1.2428 - val_categorical_accuracy: 0.7414 - val_accuracy: 0.7414\n",
      "Epoch 36/100\n",
      "19/19 [==============================] - 1s 78ms/step - loss: 0.1161 - categorical_accuracy: 0.9719 - accuracy: 0.9719 - val_loss: 2.0906 - val_categorical_accuracy: 0.7069 - val_accuracy: 0.7069\n",
      "Epoch 37/100\n",
      "19/19 [==============================] - 1s 73ms/step - loss: 0.1450 - categorical_accuracy: 0.9471 - accuracy: 0.9471 - val_loss: 1.4643 - val_categorical_accuracy: 0.6552 - val_accuracy: 0.6552\n",
      "Epoch 38/100\n",
      "19/19 [==============================] - 1s 78ms/step - loss: 0.1194 - categorical_accuracy: 0.9587 - accuracy: 0.9587 - val_loss: 1.6348 - val_categorical_accuracy: 0.7241 - val_accuracy: 0.7241\n",
      "Epoch 39/100\n"
     ]
    },
    {
     "name": "stdout",
     "output_type": "stream",
     "text": [
      "19/19 [==============================] - 2s 82ms/step - loss: 0.1241 - categorical_accuracy: 0.9554 - accuracy: 0.9554 - val_loss: 1.6726 - val_categorical_accuracy: 0.7069 - val_accuracy: 0.7069\n",
      "Epoch 40/100\n",
      "19/19 [==============================] - 1s 78ms/step - loss: 0.0972 - categorical_accuracy: 0.9686 - accuracy: 0.9686 - val_loss: 1.6046 - val_categorical_accuracy: 0.7241 - val_accuracy: 0.7241\n",
      "Epoch 41/100\n",
      "19/19 [==============================] - 1s 75ms/step - loss: 0.1059 - categorical_accuracy: 0.9603 - accuracy: 0.9603 - val_loss: 1.6617 - val_categorical_accuracy: 0.6724 - val_accuracy: 0.6724\n",
      "Epoch 42/100\n",
      "19/19 [==============================] - 2s 80ms/step - loss: 0.0765 - categorical_accuracy: 0.9835 - accuracy: 0.9835 - val_loss: 2.2536 - val_categorical_accuracy: 0.6897 - val_accuracy: 0.6897\n",
      "Epoch 43/100\n",
      "19/19 [==============================] - 1s 78ms/step - loss: 0.0955 - categorical_accuracy: 0.9769 - accuracy: 0.9769 - val_loss: 1.9009 - val_categorical_accuracy: 0.6897 - val_accuracy: 0.6897\n",
      "Epoch 44/100\n",
      "19/19 [==============================] - 1s 74ms/step - loss: 0.0944 - categorical_accuracy: 0.9736 - accuracy: 0.9736 - val_loss: 1.5530 - val_categorical_accuracy: 0.6897 - val_accuracy: 0.6897\n",
      "Epoch 45/100\n",
      "19/19 [==============================] - 1s 76ms/step - loss: 0.0631 - categorical_accuracy: 0.9785 - accuracy: 0.9785 - val_loss: 2.0897 - val_categorical_accuracy: 0.6552 - val_accuracy: 0.6552\n",
      "Epoch 46/100\n",
      "19/19 [==============================] - 1s 78ms/step - loss: 0.0633 - categorical_accuracy: 0.9884 - accuracy: 0.9884 - val_loss: 1.7791 - val_categorical_accuracy: 0.7241 - val_accuracy: 0.7241\n",
      "Epoch 47/100\n",
      "19/19 [==============================] - 2s 81ms/step - loss: 0.0881 - categorical_accuracy: 0.9769 - accuracy: 0.9769 - val_loss: 1.7296 - val_categorical_accuracy: 0.7414 - val_accuracy: 0.7414\n",
      "Epoch 48/100\n",
      "19/19 [==============================] - 1s 78ms/step - loss: 0.1113 - categorical_accuracy: 0.9702 - accuracy: 0.9702 - val_loss: 1.7425 - val_categorical_accuracy: 0.7241 - val_accuracy: 0.7241\n",
      "Epoch 49/100\n",
      "19/19 [==============================] - 1s 75ms/step - loss: 0.0695 - categorical_accuracy: 0.9769 - accuracy: 0.9769 - val_loss: 1.8096 - val_categorical_accuracy: 0.7069 - val_accuracy: 0.7069\n",
      "Epoch 50/100\n",
      "19/19 [==============================] - 1s 79ms/step - loss: 0.0639 - categorical_accuracy: 0.9769 - accuracy: 0.9769 - val_loss: 2.1077 - val_categorical_accuracy: 0.6897 - val_accuracy: 0.6897\n",
      "Epoch 51/100\n",
      "19/19 [==============================] - 1s 78ms/step - loss: 0.0701 - categorical_accuracy: 0.9736 - accuracy: 0.9736 - val_loss: 1.5603 - val_categorical_accuracy: 0.7241 - val_accuracy: 0.7241\n",
      "Epoch 52/100\n",
      "19/19 [==============================] - 1s 78ms/step - loss: 0.0603 - categorical_accuracy: 0.9851 - accuracy: 0.9851 - val_loss: 2.0619 - val_categorical_accuracy: 0.7069 - val_accuracy: 0.7069\n",
      "Epoch 53/100\n",
      "19/19 [==============================] - 2s 80ms/step - loss: 0.0754 - categorical_accuracy: 0.9736 - accuracy: 0.9736 - val_loss: 1.7754 - val_categorical_accuracy: 0.7241 - val_accuracy: 0.7241\n",
      "Epoch 54/100\n",
      "19/19 [==============================] - 2s 86ms/step - loss: 0.0721 - categorical_accuracy: 0.9785 - accuracy: 0.9785 - val_loss: 2.0253 - val_categorical_accuracy: 0.7069 - val_accuracy: 0.7069\n",
      "Epoch 55/100\n",
      "19/19 [==============================] - 2s 81ms/step - loss: 0.0753 - categorical_accuracy: 0.9769 - accuracy: 0.9769 - val_loss: 1.7581 - val_categorical_accuracy: 0.7414 - val_accuracy: 0.7414\n",
      "Epoch 56/100\n",
      "19/19 [==============================] - 1s 75ms/step - loss: 0.0698 - categorical_accuracy: 0.9818 - accuracy: 0.9818 - val_loss: 1.8981 - val_categorical_accuracy: 0.6724 - val_accuracy: 0.6724\n",
      "Epoch 57/100\n",
      "19/19 [==============================] - 1s 77ms/step - loss: 0.0550 - categorical_accuracy: 0.9868 - accuracy: 0.9868 - val_loss: 1.8524 - val_categorical_accuracy: 0.7069 - val_accuracy: 0.7069\n",
      "Epoch 58/100\n",
      "19/19 [==============================] - 2s 81ms/step - loss: 0.0408 - categorical_accuracy: 0.9934 - accuracy: 0.9934 - val_loss: 2.0515 - val_categorical_accuracy: 0.6897 - val_accuracy: 0.6897\n",
      "Epoch 59/100\n",
      "19/19 [==============================] - 2s 83ms/step - loss: 0.0409 - categorical_accuracy: 0.9901 - accuracy: 0.9901 - val_loss: 1.9409 - val_categorical_accuracy: 0.6724 - val_accuracy: 0.6724\n",
      "Epoch 60/100\n",
      "19/19 [==============================] - 2s 82ms/step - loss: 0.0404 - categorical_accuracy: 0.9917 - accuracy: 0.9917 - val_loss: 2.3131 - val_categorical_accuracy: 0.6724 - val_accuracy: 0.6724\n",
      "Epoch 61/100\n",
      "19/19 [==============================] - 2s 79ms/step - loss: 0.0324 - categorical_accuracy: 0.9901 - accuracy: 0.9901 - val_loss: 2.3654 - val_categorical_accuracy: 0.6897 - val_accuracy: 0.6897\n",
      "Epoch 62/100\n",
      "19/19 [==============================] - 2s 81ms/step - loss: 0.0359 - categorical_accuracy: 0.9868 - accuracy: 0.9868 - val_loss: 2.2671 - val_categorical_accuracy: 0.7069 - val_accuracy: 0.7069\n",
      "Epoch 63/100\n",
      "19/19 [==============================] - 2s 81ms/step - loss: 0.0991 - categorical_accuracy: 0.9702 - accuracy: 0.9702 - val_loss: 2.1788 - val_categorical_accuracy: 0.7069 - val_accuracy: 0.7069\n",
      "Epoch 64/100\n",
      "19/19 [==============================] - 1s 78ms/step - loss: 0.1866 - categorical_accuracy: 0.9322 - accuracy: 0.9322 - val_loss: 1.7191 - val_categorical_accuracy: 0.6552 - val_accuracy: 0.6552\n",
      "Epoch 65/100\n",
      "19/19 [==============================] - 2s 84ms/step - loss: 0.1097 - categorical_accuracy: 0.9653 - accuracy: 0.9653 - val_loss: 1.4759 - val_categorical_accuracy: 0.7586 - val_accuracy: 0.7586\n",
      "Epoch 66/100\n",
      "19/19 [==============================] - 2s 80ms/step - loss: 0.0529 - categorical_accuracy: 0.9835 - accuracy: 0.9835 - val_loss: 1.6609 - val_categorical_accuracy: 0.7586 - val_accuracy: 0.7586\n",
      "Epoch 67/100\n",
      "19/19 [==============================] - 2s 80ms/step - loss: 0.0371 - categorical_accuracy: 0.9901 - accuracy: 0.9901 - val_loss: 2.1523 - val_categorical_accuracy: 0.7241 - val_accuracy: 0.7241\n",
      "Epoch 68/100\n",
      "19/19 [==============================] - 1s 76ms/step - loss: 0.0537 - categorical_accuracy: 0.9868 - accuracy: 0.9868 - val_loss: 1.9454 - val_categorical_accuracy: 0.7586 - val_accuracy: 0.7586\n",
      "Epoch 69/100\n",
      "19/19 [==============================] - 1s 76ms/step - loss: 0.0324 - categorical_accuracy: 0.9901 - accuracy: 0.9901 - val_loss: 1.9763 - val_categorical_accuracy: 0.6897 - val_accuracy: 0.6897\n",
      "Epoch 70/100\n",
      "19/19 [==============================] - 1s 79ms/step - loss: 0.0438 - categorical_accuracy: 0.9868 - accuracy: 0.9868 - val_loss: 2.1275 - val_categorical_accuracy: 0.6724 - val_accuracy: 0.6724\n",
      "Epoch 71/100\n",
      "19/19 [==============================] - 2s 82ms/step - loss: 0.0314 - categorical_accuracy: 0.9934 - accuracy: 0.9934 - val_loss: 2.2482 - val_categorical_accuracy: 0.6552 - val_accuracy: 0.6552\n",
      "Epoch 72/100\n",
      "19/19 [==============================] - 2s 81ms/step - loss: 0.0362 - categorical_accuracy: 0.9868 - accuracy: 0.9868 - val_loss: 2.4139 - val_categorical_accuracy: 0.6724 - val_accuracy: 0.6724\n",
      "Epoch 73/100\n",
      "19/19 [==============================] - 2s 80ms/step - loss: 0.0459 - categorical_accuracy: 0.9818 - accuracy: 0.9818 - val_loss: 2.4969 - val_categorical_accuracy: 0.7069 - val_accuracy: 0.7069\n",
      "Epoch 74/100\n",
      "19/19 [==============================] - 1s 76ms/step - loss: 0.0376 - categorical_accuracy: 0.9851 - accuracy: 0.9851 - val_loss: 2.4936 - val_categorical_accuracy: 0.6552 - val_accuracy: 0.6552\n",
      "Epoch 75/100\n",
      "19/19 [==============================] - 2s 79ms/step - loss: 0.0302 - categorical_accuracy: 0.9917 - accuracy: 0.9917 - val_loss: 2.2562 - val_categorical_accuracy: 0.6379 - val_accuracy: 0.6379\n",
      "Epoch 76/100\n",
      "19/19 [==============================] - 1s 76ms/step - loss: 0.0261 - categorical_accuracy: 0.9934 - accuracy: 0.9934 - val_loss: 2.3979 - val_categorical_accuracy: 0.6552 - val_accuracy: 0.6552\n",
      "Epoch 77/100\n",
      "19/19 [==============================] - 2s 81ms/step - loss: 0.0337 - categorical_accuracy: 0.9884 - accuracy: 0.9884 - val_loss: 2.5570 - val_categorical_accuracy: 0.6552 - val_accuracy: 0.6552\n",
      "Epoch 78/100\n"
     ]
    },
    {
     "name": "stdout",
     "output_type": "stream",
     "text": [
      "19/19 [==============================] - 1s 78ms/step - loss: 0.0151 - categorical_accuracy: 0.9983 - accuracy: 0.9983 - val_loss: 2.6548 - val_categorical_accuracy: 0.7586 - val_accuracy: 0.7586\n",
      "Epoch 79/100\n",
      "19/19 [==============================] - 1s 78ms/step - loss: 0.0104 - categorical_accuracy: 1.0000 - accuracy: 1.0000 - val_loss: 2.2542 - val_categorical_accuracy: 0.7586 - val_accuracy: 0.7586\n",
      "Epoch 80/100\n",
      "19/19 [==============================] - 1s 79ms/step - loss: 0.0159 - categorical_accuracy: 0.9967 - accuracy: 0.9967 - val_loss: 2.1924 - val_categorical_accuracy: 0.7241 - val_accuracy: 0.7241\n",
      "Epoch 81/100\n",
      "19/19 [==============================] - 2s 82ms/step - loss: 0.0140 - categorical_accuracy: 0.9967 - accuracy: 0.9967 - val_loss: 2.5524 - val_categorical_accuracy: 0.7069 - val_accuracy: 0.7069\n",
      "Epoch 82/100\n",
      "19/19 [==============================] - 2s 82ms/step - loss: 0.0275 - categorical_accuracy: 0.9917 - accuracy: 0.9917 - val_loss: 1.8857 - val_categorical_accuracy: 0.7586 - val_accuracy: 0.7586\n",
      "Epoch 83/100\n",
      "19/19 [==============================] - 1s 76ms/step - loss: 0.0203 - categorical_accuracy: 0.9950 - accuracy: 0.9950 - val_loss: 2.1160 - val_categorical_accuracy: 0.7069 - val_accuracy: 0.7069\n",
      "Epoch 84/100\n",
      "19/19 [==============================] - 1s 79ms/step - loss: 0.0120 - categorical_accuracy: 1.0000 - accuracy: 1.0000 - val_loss: 2.5005 - val_categorical_accuracy: 0.7069 - val_accuracy: 0.7069\n",
      "Epoch 85/100\n",
      "19/19 [==============================] - 1s 77ms/step - loss: 0.0132 - categorical_accuracy: 0.9967 - accuracy: 0.9967 - val_loss: 2.1337 - val_categorical_accuracy: 0.7241 - val_accuracy: 0.7241\n",
      "Epoch 86/100\n",
      "19/19 [==============================] - 1s 77ms/step - loss: 0.0137 - categorical_accuracy: 0.9983 - accuracy: 0.9983 - val_loss: 2.6895 - val_categorical_accuracy: 0.7414 - val_accuracy: 0.7414\n",
      "Epoch 87/100\n",
      "19/19 [==============================] - 2s 82ms/step - loss: 0.0120 - categorical_accuracy: 1.0000 - accuracy: 1.0000 - val_loss: 2.5707 - val_categorical_accuracy: 0.6724 - val_accuracy: 0.6724\n",
      "Epoch 88/100\n",
      "19/19 [==============================] - 2s 82ms/step - loss: 0.0229 - categorical_accuracy: 0.9917 - accuracy: 0.9917 - val_loss: 2.0501 - val_categorical_accuracy: 0.7069 - val_accuracy: 0.7069\n",
      "Epoch 89/100\n",
      "19/19 [==============================] - 2s 81ms/step - loss: 0.0253 - categorical_accuracy: 0.9950 - accuracy: 0.9950 - val_loss: 2.2580 - val_categorical_accuracy: 0.7069 - val_accuracy: 0.7069\n",
      "Epoch 90/100\n",
      "19/19 [==============================] - 2s 82ms/step - loss: 0.0247 - categorical_accuracy: 0.9901 - accuracy: 0.9901 - val_loss: 2.1752 - val_categorical_accuracy: 0.7241 - val_accuracy: 0.7241\n",
      "Epoch 91/100\n",
      "19/19 [==============================] - 2s 81ms/step - loss: 0.0214 - categorical_accuracy: 0.9917 - accuracy: 0.9917 - val_loss: 1.8710 - val_categorical_accuracy: 0.7241 - val_accuracy: 0.7241\n",
      "Epoch 92/100\n",
      "19/19 [==============================] - 2s 80ms/step - loss: 0.0408 - categorical_accuracy: 0.9884 - accuracy: 0.9884 - val_loss: 1.7802 - val_categorical_accuracy: 0.6897 - val_accuracy: 0.6897\n",
      "Epoch 93/100\n",
      "19/19 [==============================] - 1s 79ms/step - loss: 0.0745 - categorical_accuracy: 0.9702 - accuracy: 0.9702 - val_loss: 2.5047 - val_categorical_accuracy: 0.7241 - val_accuracy: 0.7241\n",
      "Epoch 94/100\n",
      "19/19 [==============================] - 1s 77ms/step - loss: 0.0318 - categorical_accuracy: 0.9868 - accuracy: 0.9868 - val_loss: 2.1178 - val_categorical_accuracy: 0.7241 - val_accuracy: 0.7241\n",
      "Epoch 95/100\n",
      "19/19 [==============================] - 1s 79ms/step - loss: 0.0433 - categorical_accuracy: 0.9884 - accuracy: 0.9884 - val_loss: 2.3473 - val_categorical_accuracy: 0.7414 - val_accuracy: 0.7414\n",
      "Epoch 96/100\n",
      "19/19 [==============================] - 1s 78ms/step - loss: 0.0457 - categorical_accuracy: 0.9835 - accuracy: 0.9835 - val_loss: 1.7722 - val_categorical_accuracy: 0.7586 - val_accuracy: 0.7586\n",
      "Epoch 97/100\n",
      "19/19 [==============================] - 1s 79ms/step - loss: 0.0934 - categorical_accuracy: 0.9702 - accuracy: 0.9702 - val_loss: 2.7501 - val_categorical_accuracy: 0.6379 - val_accuracy: 0.6379\n",
      "Epoch 98/100\n",
      "19/19 [==============================] - 2s 81ms/step - loss: 0.0596 - categorical_accuracy: 0.9851 - accuracy: 0.9851 - val_loss: 2.4677 - val_categorical_accuracy: 0.6724 - val_accuracy: 0.6724\n",
      "Epoch 99/100\n",
      "19/19 [==============================] - 2s 81ms/step - loss: 0.0583 - categorical_accuracy: 0.9769 - accuracy: 0.9769 - val_loss: 2.4862 - val_categorical_accuracy: 0.7069 - val_accuracy: 0.7069\n",
      "Epoch 100/100\n",
      "19/19 [==============================] - 2s 84ms/step - loss: 0.0612 - categorical_accuracy: 0.9769 - accuracy: 0.9769 - val_loss: 1.8792 - val_categorical_accuracy: 0.7414 - val_accuracy: 0.7414\n"
     ]
    },
    {
     "data": {
      "text/plain": [
       "<tensorflow.python.keras.callbacks.History at 0x1381027d3c8>"
      ]
     },
     "execution_count": 14,
     "metadata": {},
     "output_type": "execute_result"
    }
   ],
   "source": [
    "cnn.fit(x=training_set,validation_data=test_set,epochs=100)"
   ]
  },
  {
   "cell_type": "code",
   "execution_count": 15,
   "metadata": {},
   "outputs": [],
   "source": [
    "import numpy as np\n",
    "from keras.preprocessing import image"
   ]
  },
  {
   "cell_type": "code",
   "execution_count": 16,
   "metadata": {},
   "outputs": [
    {
     "name": "stdout",
     "output_type": "stream",
     "text": [
      "{'audi': 0, 'lamborghini': 1, 'mercedes': 2}\n"
     ]
    }
   ],
   "source": [
    "print(training_set.class_indices)"
   ]
  },
  {
   "cell_type": "code",
   "execution_count": 18,
   "metadata": {},
   "outputs": [
    {
     "data": {
      "application/javascript": [
       "\n",
       "        if (window._pyforest_update_imports_cell) { window._pyforest_update_imports_cell('import os'); }\n",
       "    "
      ],
      "text/plain": [
       "<IPython.core.display.Javascript object>"
      ]
     },
     "metadata": {},
     "output_type": "display_data"
    },
    {
     "data": {
      "application/javascript": [
       "\n",
       "        if (window._pyforest_update_imports_cell) { window._pyforest_update_imports_cell('import os'); }\n",
       "    "
      ],
      "text/plain": [
       "<IPython.core.display.Javascript object>"
      ]
     },
     "metadata": {},
     "output_type": "display_data"
    },
    {
     "data": {
      "application/javascript": [
       "\n",
       "        if (window._pyforest_update_imports_cell) { window._pyforest_update_imports_cell('import os'); }\n",
       "    "
      ],
      "text/plain": [
       "<IPython.core.display.Javascript object>"
      ]
     },
     "metadata": {},
     "output_type": "display_data"
    },
    {
     "data": {
      "application/javascript": [
       "\n",
       "        if (window._pyforest_update_imports_cell) { window._pyforest_update_imports_cell('import os'); }\n",
       "    "
      ],
      "text/plain": [
       "<IPython.core.display.Javascript object>"
      ]
     },
     "metadata": {},
     "output_type": "display_data"
    },
    {
     "data": {
      "application/javascript": [
       "\n",
       "        if (window._pyforest_update_imports_cell) { window._pyforest_update_imports_cell('import os'); }\n",
       "    "
      ],
      "text/plain": [
       "<IPython.core.display.Javascript object>"
      ]
     },
     "metadata": {},
     "output_type": "display_data"
    },
    {
     "data": {
      "application/javascript": [
       "\n",
       "        if (window._pyforest_update_imports_cell) { window._pyforest_update_imports_cell('import os'); }\n",
       "    "
      ],
      "text/plain": [
       "<IPython.core.display.Javascript object>"
      ]
     },
     "metadata": {},
     "output_type": "display_data"
    },
    {
     "data": {
      "application/javascript": [
       "\n",
       "        if (window._pyforest_update_imports_cell) { window._pyforest_update_imports_cell('import os'); }\n",
       "    "
      ],
      "text/plain": [
       "<IPython.core.display.Javascript object>"
      ]
     },
     "metadata": {},
     "output_type": "display_data"
    },
    {
     "data": {
      "application/javascript": [
       "\n",
       "        if (window._pyforest_update_imports_cell) { window._pyforest_update_imports_cell('import os'); }\n",
       "    "
      ],
      "text/plain": [
       "<IPython.core.display.Javascript object>"
      ]
     },
     "metadata": {},
     "output_type": "display_data"
    },
    {
     "data": {
      "application/javascript": [
       "\n",
       "        if (window._pyforest_update_imports_cell) { window._pyforest_update_imports_cell('import os'); }\n",
       "    "
      ],
      "text/plain": [
       "<IPython.core.display.Javascript object>"
      ]
     },
     "metadata": {},
     "output_type": "display_data"
    },
    {
     "name": "stdout",
     "output_type": "stream",
     "text": [
      "mercedes\n",
      "lambo\n",
      "lambo\n",
      "lambo\n",
      "mercedes\n",
      "mercedes\n",
      "mercedes\n"
     ]
    }
   ],
   "source": [
    "images = []\n",
    "img_folder = os.path.join('PredictionFolder')\n",
    "img_files = os.listdir(img_folder)\n",
    "img_files = [os.path.join(img_folder, f) for f in img_files]\n",
    "# print(img_files)\n",
    "for img in img_files:\n",
    "    img = image.load_img(img, target_size=(64, 64))\n",
    "    img = image.img_to_array(img)\n",
    "    img = np.expand_dims(img, axis=0)\n",
    "    images.append(img)\n",
    "\n",
    "# stack up images list to pass for prediction\n",
    "images = np.vstack(images)\n",
    "# print(images)\n",
    "classes = cnn.predict_classes(images, batch_size=32)\n",
    "for i in classes:\n",
    "    if i==0:\n",
    "        print('audi')\n",
    "    elif i==1:\n",
    "        print('lambo')\n",
    "    else:\n",
    "        print('mercedes')\n",
    "#print(classes)"
   ]
  },
  {
   "cell_type": "code",
   "execution_count": 23,
   "metadata": {},
   "outputs": [],
   "source": [
    "# save it as a h5 file\n",
    "from tensorflow.keras.models import load_model\n",
    "\n",
    "cnn.save('car_prediction.h5')"
   ]
  },
  {
   "cell_type": "code",
   "execution_count": 25,
   "metadata": {},
   "outputs": [],
   "source": [
    "cnn=load_model('car_prediction.h5')"
   ]
  },
  {
   "cell_type": "code",
   "execution_count": null,
   "metadata": {},
   "outputs": [],
   "source": []
  }
 ],
 "metadata": {
  "kernelspec": {
   "display_name": "Python 3",
   "language": "python",
   "name": "python3"
  },
  "language_info": {
   "codemirror_mode": {
    "name": "ipython",
    "version": 3
   },
   "file_extension": ".py",
   "mimetype": "text/x-python",
   "name": "python",
   "nbconvert_exporter": "python",
   "pygments_lexer": "ipython3",
   "version": "3.7.4"
  }
 },
 "nbformat": 4,
 "nbformat_minor": 2
}
