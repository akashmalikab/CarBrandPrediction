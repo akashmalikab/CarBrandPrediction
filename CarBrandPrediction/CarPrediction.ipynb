{
 "cells": [
  {
   "cell_type": "code",
   "execution_count": 1,
   "metadata": {},
   "outputs": [
    {
     "name": "stderr",
     "output_type": "stream",
     "text": [
      "Using TensorFlow backend.\n"
     ]
    }
   ],
   "source": [
    "##Importing Libraries\n",
    "import tensorflow as tf\n",
    "from keras.preprocessing.image import ImageDataGenerator"
   ]
  },
  {
   "cell_type": "code",
   "execution_count": 2,
   "metadata": {},
   "outputs": [
    {
     "name": "stdout",
     "output_type": "stream",
     "text": [
      "Found 605 images belonging to 3 classes.\n"
     ]
    }
   ],
   "source": [
    "##Data Preprocessing\n",
    "train_datagen = ImageDataGenerator(\n",
    "        rescale=1./255,\n",
    "        shear_range=0.2,\n",
    "        zoom_range=0.2,\n",
    "        horizontal_flip=True)\n",
    "training_set = train_datagen.flow_from_directory(\n",
    "        'Datasets\\Train',\n",
    "        target_size=(64, 64),\n",
    "        batch_size=32,\n",
    "        class_mode='categorical')"
   ]
  },
  {
   "cell_type": "code",
   "execution_count": 3,
   "metadata": {},
   "outputs": [
    {
     "name": "stdout",
     "output_type": "stream",
     "text": [
      "Found 58 images belonging to 3 classes.\n"
     ]
    }
   ],
   "source": [
    "test_set = train_datagen.flow_from_directory(\n",
    "        'Datasets\\Test',\n",
    "        target_size=(64, 64),\n",
    "        batch_size=32,\n",
    "        class_mode='categorical')"
   ]
  },
  {
   "cell_type": "code",
   "execution_count": 6,
   "metadata": {},
   "outputs": [],
   "source": [
    "##Building CNN"
   ]
  },
  {
   "cell_type": "code",
   "execution_count": 4,
   "metadata": {},
   "outputs": [],
   "source": [
    "cnn = tf.keras.models.Sequential()\n"
   ]
  },
  {
   "cell_type": "code",
   "execution_count": 5,
   "metadata": {},
   "outputs": [],
   "source": [
    "cnn.add(tf.keras.layers.Convolution2D(filters=32,kernel_size=(3,3),activation='relu',input_shape=(64,64,3)))\n"
   ]
  },
  {
   "cell_type": "code",
   "execution_count": 6,
   "metadata": {},
   "outputs": [],
   "source": [
    "cnn.add(tf.keras.layers.MaxPooling2D(pool_size=(2,2)))\n"
   ]
  },
  {
   "cell_type": "code",
   "execution_count": 7,
   "metadata": {},
   "outputs": [],
   "source": [
    "cnn.add(tf.keras.layers.Convolution2D(filters=32,kernel_size=(3,3),activation='relu'))\n",
    "cnn.add(tf.keras.layers.MaxPooling2D(pool_size=(2,2)))\n"
   ]
  },
  {
   "cell_type": "code",
   "execution_count": 8,
   "metadata": {},
   "outputs": [],
   "source": [
    "cnn.add(tf.keras.layers.Flatten())\n"
   ]
  },
  {
   "cell_type": "code",
   "execution_count": 10,
   "metadata": {},
   "outputs": [],
   "source": [
    "cnn.add(tf.keras.layers.Dense(units=130,activation='relu'))"
   ]
  },
  {
   "cell_type": "code",
   "execution_count": null,
   "metadata": {},
   "outputs": [],
   "source": []
  },
  {
   "cell_type": "code",
   "execution_count": 11,
   "metadata": {},
   "outputs": [],
   "source": [
    "##Adding Output Layer\n",
    "cnn.add(tf.keras.layers.Dense(units=3,activation='softmax'))"
   ]
  },
  {
   "cell_type": "code",
   "execution_count": 12,
   "metadata": {},
   "outputs": [],
   "source": [
    "##Training the model\n",
    "cnn.compile(optimizer='adam',loss='categorical_crossentropy',metrics=['categorical_accuracy','accuracy'])"
   ]
  },
  {
   "cell_type": "code",
   "execution_count": 13,
   "metadata": {},
   "outputs": [
    {
     "name": "stdout",
     "output_type": "stream",
     "text": [
      "Model: \"sequential\"\n",
      "_________________________________________________________________\n",
      "Layer (type)                 Output Shape              Param #   \n",
      "=================================================================\n",
      "conv2d (Conv2D)              (None, 62, 62, 32)        896       \n",
      "_________________________________________________________________\n",
      "max_pooling2d (MaxPooling2D) (None, 31, 31, 32)        0         \n",
      "_________________________________________________________________\n",
      "conv2d_1 (Conv2D)            (None, 29, 29, 32)        9248      \n",
      "_________________________________________________________________\n",
      "max_pooling2d_1 (MaxPooling2 (None, 14, 14, 32)        0         \n",
      "_________________________________________________________________\n",
      "flatten (Flatten)            (None, 6272)              0         \n",
      "_________________________________________________________________\n",
      "dense (Dense)                (None, 130)               815490    \n",
      "_________________________________________________________________\n",
      "dense_1 (Dense)              (None, 130)               17030     \n",
      "_________________________________________________________________\n",
      "dense_2 (Dense)              (None, 3)                 393       \n",
      "=================================================================\n",
      "Total params: 843,057\n",
      "Trainable params: 843,057\n",
      "Non-trainable params: 0\n",
      "_________________________________________________________________\n"
     ]
    }
   ],
   "source": [
    "cnn.summary()"
   ]
  },
  {
   "cell_type": "code",
   "execution_count": 15,
   "metadata": {},
   "outputs": [
    {
     "name": "stdout",
     "output_type": "stream",
     "text": [
      "WARNING:tensorflow:sample_weight modes were coerced from\n",
      "  ...\n",
      "    to  \n",
      "  ['...']\n",
      "WARNING:tensorflow:sample_weight modes were coerced from\n",
      "  ...\n",
      "    to  \n",
      "  ['...']\n",
      "Train for 19 steps, validate for 2 steps\n",
      "Epoch 1/100\n",
      "19/19 [==============================] - 1s 74ms/step - loss: 0.6691 - categorical_accuracy: 0.7008 - accuracy: 0.7008 - val_loss: 0.9744 - val_categorical_accuracy: 0.6379 - val_accuracy: 0.6379\n",
      "Epoch 2/100\n",
      "19/19 [==============================] - 2s 79ms/step - loss: 0.6577 - categorical_accuracy: 0.6959 - accuracy: 0.6959 - val_loss: 1.0472 - val_categorical_accuracy: 0.5690 - val_accuracy: 0.5690\n",
      "Epoch 3/100\n",
      "19/19 [==============================] - 1s 76ms/step - loss: 0.6126 - categorical_accuracy: 0.7504 - accuracy: 0.7504 - val_loss: 0.9345 - val_categorical_accuracy: 0.6552 - val_accuracy: 0.6552\n",
      "Epoch 4/100\n",
      "19/19 [==============================] - 1s 77ms/step - loss: 0.5784 - categorical_accuracy: 0.7570 - accuracy: 0.7570 - val_loss: 1.0694 - val_categorical_accuracy: 0.6207 - val_accuracy: 0.6207\n",
      "Epoch 5/100\n",
      "19/19 [==============================] - 1s 77ms/step - loss: 0.5933 - categorical_accuracy: 0.7554 - accuracy: 0.7554 - val_loss: 1.0110 - val_categorical_accuracy: 0.6207 - val_accuracy: 0.6207\n",
      "Epoch 6/100\n",
      "19/19 [==============================] - 1s 76ms/step - loss: 0.5713 - categorical_accuracy: 0.7719 - accuracy: 0.7719 - val_loss: 1.1261 - val_categorical_accuracy: 0.5690 - val_accuracy: 0.5690\n",
      "Epoch 7/100\n",
      "19/19 [==============================] - 1s 77ms/step - loss: 0.5351 - categorical_accuracy: 0.7835 - accuracy: 0.7835 - val_loss: 1.0921 - val_categorical_accuracy: 0.6034 - val_accuracy: 0.6034\n",
      "Epoch 8/100\n",
      "19/19 [==============================] - 1s 79ms/step - loss: 0.5490 - categorical_accuracy: 0.7636 - accuracy: 0.7636 - val_loss: 1.0726 - val_categorical_accuracy: 0.5862 - val_accuracy: 0.5862\n",
      "Epoch 9/100\n",
      "19/19 [==============================] - 1s 78ms/step - loss: 0.5293 - categorical_accuracy: 0.7983 - accuracy: 0.7983 - val_loss: 1.1285 - val_categorical_accuracy: 0.5862 - val_accuracy: 0.5862\n",
      "Epoch 10/100\n",
      "19/19 [==============================] - 1s 77ms/step - loss: 0.4432 - categorical_accuracy: 0.8215 - accuracy: 0.8215 - val_loss: 1.2151 - val_categorical_accuracy: 0.5517 - val_accuracy: 0.5517\n",
      "Epoch 11/100\n",
      "19/19 [==============================] - 2s 79ms/step - loss: 0.4342 - categorical_accuracy: 0.8298 - accuracy: 0.8298 - val_loss: 1.0586 - val_categorical_accuracy: 0.5862 - val_accuracy: 0.5862\n",
      "Epoch 12/100\n",
      "19/19 [==============================] - 1s 76ms/step - loss: 0.3940 - categorical_accuracy: 0.8430 - accuracy: 0.8430 - val_loss: 1.0143 - val_categorical_accuracy: 0.6379 - val_accuracy: 0.6379\n",
      "Epoch 13/100\n",
      "19/19 [==============================] - 2s 81ms/step - loss: 0.3862 - categorical_accuracy: 0.8760 - accuracy: 0.8760 - val_loss: 0.9962 - val_categorical_accuracy: 0.6724 - val_accuracy: 0.6724\n",
      "Epoch 14/100\n",
      "19/19 [==============================] - 1s 79ms/step - loss: 0.3643 - categorical_accuracy: 0.8628 - accuracy: 0.8628 - val_loss: 1.1627 - val_categorical_accuracy: 0.6724 - val_accuracy: 0.6724\n",
      "Epoch 15/100\n",
      "19/19 [==============================] - 1s 77ms/step - loss: 0.3315 - categorical_accuracy: 0.8810 - accuracy: 0.8810 - val_loss: 1.1955 - val_categorical_accuracy: 0.6207 - val_accuracy: 0.6207\n",
      "Epoch 16/100\n",
      "19/19 [==============================] - 1s 76ms/step - loss: 0.3126 - categorical_accuracy: 0.8810 - accuracy: 0.8810 - val_loss: 1.3215 - val_categorical_accuracy: 0.6034 - val_accuracy: 0.6034\n",
      "Epoch 17/100\n",
      "19/19 [==============================] - 1s 78ms/step - loss: 0.3323 - categorical_accuracy: 0.8777 - accuracy: 0.8777 - val_loss: 1.0434 - val_categorical_accuracy: 0.6897 - val_accuracy: 0.6897\n",
      "Epoch 18/100\n",
      "19/19 [==============================] - 2s 82ms/step - loss: 0.2723 - categorical_accuracy: 0.8992 - accuracy: 0.8992 - val_loss: 1.0260 - val_categorical_accuracy: 0.6724 - val_accuracy: 0.6724\n",
      "Epoch 19/100\n",
      "19/19 [==============================] - 2s 79ms/step - loss: 0.2918 - categorical_accuracy: 0.9058 - accuracy: 0.9058 - val_loss: 1.3806 - val_categorical_accuracy: 0.5690 - val_accuracy: 0.5690\n",
      "Epoch 20/100\n",
      "19/19 [==============================] - 2s 79ms/step - loss: 0.2457 - categorical_accuracy: 0.9273 - accuracy: 0.9273 - val_loss: 1.1024 - val_categorical_accuracy: 0.6724 - val_accuracy: 0.6724\n",
      "Epoch 21/100\n",
      "19/19 [==============================] - 2s 80ms/step - loss: 0.2718 - categorical_accuracy: 0.9025 - accuracy: 0.9025 - val_loss: 1.0211 - val_categorical_accuracy: 0.7069 - val_accuracy: 0.7069\n",
      "Epoch 22/100\n",
      "19/19 [==============================] - 2s 81ms/step - loss: 0.2281 - categorical_accuracy: 0.9240 - accuracy: 0.9240 - val_loss: 1.1763 - val_categorical_accuracy: 0.6724 - val_accuracy: 0.6724\n",
      "Epoch 23/100\n",
      "19/19 [==============================] - 2s 80ms/step - loss: 0.2125 - categorical_accuracy: 0.9256 - accuracy: 0.9256 - val_loss: 1.1466 - val_categorical_accuracy: 0.6552 - val_accuracy: 0.6552\n",
      "Epoch 24/100\n",
      "19/19 [==============================] - 1s 76ms/step - loss: 0.1930 - categorical_accuracy: 0.9339 - accuracy: 0.9339 - val_loss: 1.0308 - val_categorical_accuracy: 0.7414 - val_accuracy: 0.7414\n",
      "Epoch 25/100\n",
      "19/19 [==============================] - 1s 76ms/step - loss: 0.2038 - categorical_accuracy: 0.9306 - accuracy: 0.9306 - val_loss: 0.9088 - val_categorical_accuracy: 0.7241 - val_accuracy: 0.7241\n",
      "Epoch 26/100\n",
      "19/19 [==============================] - 2s 80ms/step - loss: 0.1898 - categorical_accuracy: 0.9355 - accuracy: 0.9355 - val_loss: 1.1881 - val_categorical_accuracy: 0.6897 - val_accuracy: 0.6897\n",
      "Epoch 27/100\n",
      "19/19 [==============================] - 1s 79ms/step - loss: 0.1715 - categorical_accuracy: 0.9471 - accuracy: 0.9471 - val_loss: 1.2359 - val_categorical_accuracy: 0.6724 - val_accuracy: 0.6724\n",
      "Epoch 28/100\n",
      "19/19 [==============================] - 1s 78ms/step - loss: 0.2222 - categorical_accuracy: 0.9174 - accuracy: 0.9174 - val_loss: 1.1507 - val_categorical_accuracy: 0.6897 - val_accuracy: 0.6897\n",
      "Epoch 29/100\n",
      "19/19 [==============================] - 1s 77ms/step - loss: 0.1556 - categorical_accuracy: 0.9521 - accuracy: 0.9521 - val_loss: 1.2284 - val_categorical_accuracy: 0.6724 - val_accuracy: 0.6724\n",
      "Epoch 30/100\n",
      "19/19 [==============================] - 1s 78ms/step - loss: 0.1803 - categorical_accuracy: 0.9521 - accuracy: 0.9521 - val_loss: 1.1603 - val_categorical_accuracy: 0.6724 - val_accuracy: 0.6724\n",
      "Epoch 31/100\n",
      "19/19 [==============================] - 2s 80ms/step - loss: 0.1774 - categorical_accuracy: 0.9388 - accuracy: 0.9388 - val_loss: 1.0958 - val_categorical_accuracy: 0.7414 - val_accuracy: 0.7414\n",
      "Epoch 32/100\n",
      "19/19 [==============================] - 1s 78ms/step - loss: 0.1219 - categorical_accuracy: 0.9587 - accuracy: 0.9587 - val_loss: 1.2311 - val_categorical_accuracy: 0.6897 - val_accuracy: 0.6897\n",
      "Epoch 33/100\n",
      "19/19 [==============================] - 1s 78ms/step - loss: 0.1411 - categorical_accuracy: 0.9587 - accuracy: 0.9587 - val_loss: 0.9873 - val_categorical_accuracy: 0.7586 - val_accuracy: 0.7586\n",
      "Epoch 34/100\n",
      "19/19 [==============================] - 2s 80ms/step - loss: 0.1299 - categorical_accuracy: 0.9587 - accuracy: 0.9587 - val_loss: 1.1500 - val_categorical_accuracy: 0.7069 - val_accuracy: 0.7069\n",
      "Epoch 35/100\n",
      "19/19 [==============================] - 2s 80ms/step - loss: 0.1511 - categorical_accuracy: 0.9537 - accuracy: 0.9537 - val_loss: 1.1852 - val_categorical_accuracy: 0.7241 - val_accuracy: 0.7241\n",
      "Epoch 36/100\n",
      "19/19 [==============================] - 1s 78ms/step - loss: 0.1123 - categorical_accuracy: 0.9653 - accuracy: 0.9653 - val_loss: 1.1423 - val_categorical_accuracy: 0.7069 - val_accuracy: 0.7069\n",
      "Epoch 37/100\n",
      "19/19 [==============================] - 1s 78ms/step - loss: 0.1477 - categorical_accuracy: 0.9504 - accuracy: 0.9504 - val_loss: 1.3232 - val_categorical_accuracy: 0.6724 - val_accuracy: 0.6724\n",
      "Epoch 38/100\n",
      "19/19 [==============================] - 2s 79ms/step - loss: 0.1357 - categorical_accuracy: 0.9620 - accuracy: 0.9620 - val_loss: 1.1892 - val_categorical_accuracy: 0.6724 - val_accuracy: 0.6724\n",
      "Epoch 39/100\n"
     ]
    },
    {
     "name": "stdout",
     "output_type": "stream",
     "text": [
      "19/19 [==============================] - 1s 78ms/step - loss: 0.1356 - categorical_accuracy: 0.9554 - accuracy: 0.9554 - val_loss: 0.9699 - val_categorical_accuracy: 0.7586 - val_accuracy: 0.7586\n",
      "Epoch 40/100\n",
      "19/19 [==============================] - 1s 78ms/step - loss: 0.1400 - categorical_accuracy: 0.9620 - accuracy: 0.9620 - val_loss: 1.2207 - val_categorical_accuracy: 0.7414 - val_accuracy: 0.7414\n",
      "Epoch 41/100\n",
      "19/19 [==============================] - 2s 80ms/step - loss: 0.1292 - categorical_accuracy: 0.9537 - accuracy: 0.9537 - val_loss: 1.1081 - val_categorical_accuracy: 0.7069 - val_accuracy: 0.7069\n",
      "Epoch 42/100\n",
      "19/19 [==============================] - 1s 78ms/step - loss: 0.0989 - categorical_accuracy: 0.9669 - accuracy: 0.9669 - val_loss: 1.2431 - val_categorical_accuracy: 0.7414 - val_accuracy: 0.7414\n",
      "Epoch 43/100\n",
      "19/19 [==============================] - 1s 78ms/step - loss: 0.1157 - categorical_accuracy: 0.9603 - accuracy: 0.9603 - val_loss: 1.2889 - val_categorical_accuracy: 0.7241 - val_accuracy: 0.7241\n",
      "Epoch 44/100\n",
      "19/19 [==============================] - 1s 79ms/step - loss: 0.1188 - categorical_accuracy: 0.9669 - accuracy: 0.9669 - val_loss: 1.0394 - val_categorical_accuracy: 0.7414 - val_accuracy: 0.7414\n",
      "Epoch 45/100\n",
      "19/19 [==============================] - 1s 77ms/step - loss: 0.0803 - categorical_accuracy: 0.9769 - accuracy: 0.9769 - val_loss: 1.2439 - val_categorical_accuracy: 0.7069 - val_accuracy: 0.7069\n",
      "Epoch 46/100\n",
      "19/19 [==============================] - 1s 78ms/step - loss: 0.1073 - categorical_accuracy: 0.9669 - accuracy: 0.9669 - val_loss: 1.1589 - val_categorical_accuracy: 0.7586 - val_accuracy: 0.7586\n",
      "Epoch 47/100\n",
      "19/19 [==============================] - 1s 76ms/step - loss: 0.0881 - categorical_accuracy: 0.9702 - accuracy: 0.9702 - val_loss: 1.4900 - val_categorical_accuracy: 0.7069 - val_accuracy: 0.7069\n",
      "Epoch 48/100\n",
      "19/19 [==============================] - 1s 79ms/step - loss: 0.0943 - categorical_accuracy: 0.9702 - accuracy: 0.9702 - val_loss: 1.1042 - val_categorical_accuracy: 0.7414 - val_accuracy: 0.7414\n",
      "Epoch 49/100\n",
      "19/19 [==============================] - 1s 77ms/step - loss: 0.0835 - categorical_accuracy: 0.9702 - accuracy: 0.9702 - val_loss: 1.1684 - val_categorical_accuracy: 0.7414 - val_accuracy: 0.7414\n",
      "Epoch 50/100\n",
      "19/19 [==============================] - 1s 75ms/step - loss: 0.0762 - categorical_accuracy: 0.9835 - accuracy: 0.9835 - val_loss: 1.2250 - val_categorical_accuracy: 0.7069 - val_accuracy: 0.7069\n",
      "Epoch 51/100\n",
      "19/19 [==============================] - 1s 75ms/step - loss: 0.0604 - categorical_accuracy: 0.9769 - accuracy: 0.9769 - val_loss: 1.2493 - val_categorical_accuracy: 0.7241 - val_accuracy: 0.7241\n",
      "Epoch 52/100\n",
      "19/19 [==============================] - 2s 81ms/step - loss: 0.0518 - categorical_accuracy: 0.9835 - accuracy: 0.9835 - val_loss: 1.2301 - val_categorical_accuracy: 0.7241 - val_accuracy: 0.7241\n",
      "Epoch 53/100\n",
      "19/19 [==============================] - 2s 80ms/step - loss: 0.0628 - categorical_accuracy: 0.9769 - accuracy: 0.9769 - val_loss: 1.3515 - val_categorical_accuracy: 0.7069 - val_accuracy: 0.7069\n",
      "Epoch 54/100\n",
      "19/19 [==============================] - 1s 76ms/step - loss: 0.0662 - categorical_accuracy: 0.9802 - accuracy: 0.9802 - val_loss: 1.5344 - val_categorical_accuracy: 0.7241 - val_accuracy: 0.7241\n",
      "Epoch 55/100\n",
      "19/19 [==============================] - 1s 78ms/step - loss: 0.0543 - categorical_accuracy: 0.9818 - accuracy: 0.9818 - val_loss: 1.1829 - val_categorical_accuracy: 0.7759 - val_accuracy: 0.7759\n",
      "Epoch 56/100\n",
      "19/19 [==============================] - 2s 81ms/step - loss: 0.0823 - categorical_accuracy: 0.9785 - accuracy: 0.9785 - val_loss: 1.0799 - val_categorical_accuracy: 0.7586 - val_accuracy: 0.7586\n",
      "Epoch 57/100\n",
      "19/19 [==============================] - 1s 76ms/step - loss: 0.0804 - categorical_accuracy: 0.9802 - accuracy: 0.9802 - val_loss: 1.1813 - val_categorical_accuracy: 0.7414 - val_accuracy: 0.7414\n",
      "Epoch 58/100\n",
      "19/19 [==============================] - 1s 78ms/step - loss: 0.0748 - categorical_accuracy: 0.9802 - accuracy: 0.9802 - val_loss: 1.2447 - val_categorical_accuracy: 0.7069 - val_accuracy: 0.7069\n",
      "Epoch 59/100\n",
      "19/19 [==============================] - 1s 78ms/step - loss: 0.0638 - categorical_accuracy: 0.9802 - accuracy: 0.9802 - val_loss: 0.9794 - val_categorical_accuracy: 0.6897 - val_accuracy: 0.6897\n",
      "Epoch 60/100\n",
      "19/19 [==============================] - 1s 78ms/step - loss: 0.0591 - categorical_accuracy: 0.9802 - accuracy: 0.9802 - val_loss: 1.3364 - val_categorical_accuracy: 0.7414 - val_accuracy: 0.7414\n",
      "Epoch 61/100\n",
      "19/19 [==============================] - 1s 78ms/step - loss: 0.0855 - categorical_accuracy: 0.9686 - accuracy: 0.9686 - val_loss: 1.2661 - val_categorical_accuracy: 0.7069 - val_accuracy: 0.7069\n",
      "Epoch 62/100\n",
      "19/19 [==============================] - 2s 86ms/step - loss: 0.1052 - categorical_accuracy: 0.9669 - accuracy: 0.9669 - val_loss: 1.2959 - val_categorical_accuracy: 0.7069 - val_accuracy: 0.7069\n",
      "Epoch 63/100\n",
      "19/19 [==============================] - 2s 80ms/step - loss: 0.0820 - categorical_accuracy: 0.9752 - accuracy: 0.9752 - val_loss: 1.7878 - val_categorical_accuracy: 0.6724 - val_accuracy: 0.6724\n",
      "Epoch 64/100\n",
      "19/19 [==============================] - 1s 79ms/step - loss: 0.0858 - categorical_accuracy: 0.9736 - accuracy: 0.9736 - val_loss: 1.3569 - val_categorical_accuracy: 0.7241 - val_accuracy: 0.7241\n",
      "Epoch 65/100\n",
      "19/19 [==============================] - 2s 80ms/step - loss: 0.0838 - categorical_accuracy: 0.9719 - accuracy: 0.9719 - val_loss: 1.7331 - val_categorical_accuracy: 0.6552 - val_accuracy: 0.6552\n",
      "Epoch 66/100\n",
      "19/19 [==============================] - 1s 78ms/step - loss: 0.0719 - categorical_accuracy: 0.9785 - accuracy: 0.9785 - val_loss: 1.4995 - val_categorical_accuracy: 0.6724 - val_accuracy: 0.6724\n",
      "Epoch 67/100\n",
      "19/19 [==============================] - 2s 81ms/step - loss: 0.1190 - categorical_accuracy: 0.9537 - accuracy: 0.9537 - val_loss: 1.3519 - val_categorical_accuracy: 0.7586 - val_accuracy: 0.7586\n",
      "Epoch 68/100\n",
      "19/19 [==============================] - 2s 80ms/step - loss: 0.1041 - categorical_accuracy: 0.9719 - accuracy: 0.9719 - val_loss: 1.3283 - val_categorical_accuracy: 0.7241 - val_accuracy: 0.7241\n",
      "Epoch 69/100\n",
      "19/19 [==============================] - 2s 81ms/step - loss: 0.0667 - categorical_accuracy: 0.9835 - accuracy: 0.9835 - val_loss: 1.2754 - val_categorical_accuracy: 0.7414 - val_accuracy: 0.7414\n",
      "Epoch 70/100\n",
      "19/19 [==============================] - 2s 83ms/step - loss: 0.0527 - categorical_accuracy: 0.9851 - accuracy: 0.9851 - val_loss: 1.1204 - val_categorical_accuracy: 0.7586 - val_accuracy: 0.7586\n",
      "Epoch 71/100\n",
      "19/19 [==============================] - 2s 86ms/step - loss: 0.0535 - categorical_accuracy: 0.9851 - accuracy: 0.9851 - val_loss: 1.3363 - val_categorical_accuracy: 0.7586 - val_accuracy: 0.7586\n",
      "Epoch 72/100\n",
      "19/19 [==============================] - 2s 85ms/step - loss: 0.0598 - categorical_accuracy: 0.9835 - accuracy: 0.9835 - val_loss: 1.4951 - val_categorical_accuracy: 0.6724 - val_accuracy: 0.6724\n",
      "Epoch 73/100\n",
      "19/19 [==============================] - 2s 82ms/step - loss: 0.0541 - categorical_accuracy: 0.9835 - accuracy: 0.9835 - val_loss: 1.4633 - val_categorical_accuracy: 0.7069 - val_accuracy: 0.7069\n",
      "Epoch 74/100\n",
      "19/19 [==============================] - 2s 81ms/step - loss: 0.0720 - categorical_accuracy: 0.9752 - accuracy: 0.9752 - val_loss: 1.5468 - val_categorical_accuracy: 0.7069 - val_accuracy: 0.7069\n",
      "Epoch 75/100\n",
      "19/19 [==============================] - 2s 82ms/step - loss: 0.0614 - categorical_accuracy: 0.9818 - accuracy: 0.9818 - val_loss: 1.3887 - val_categorical_accuracy: 0.7414 - val_accuracy: 0.7414\n",
      "Epoch 76/100\n",
      "19/19 [==============================] - 2s 79ms/step - loss: 0.0613 - categorical_accuracy: 0.9785 - accuracy: 0.9785 - val_loss: 1.3276 - val_categorical_accuracy: 0.7414 - val_accuracy: 0.7414\n",
      "Epoch 77/100\n",
      "19/19 [==============================] - 1s 78ms/step - loss: 0.0560 - categorical_accuracy: 0.9835 - accuracy: 0.9835 - val_loss: 1.3916 - val_categorical_accuracy: 0.7241 - val_accuracy: 0.7241\n",
      "Epoch 78/100\n"
     ]
    },
    {
     "name": "stdout",
     "output_type": "stream",
     "text": [
      "19/19 [==============================] - 1s 77ms/step - loss: 0.0711 - categorical_accuracy: 0.9818 - accuracy: 0.9818 - val_loss: 1.5890 - val_categorical_accuracy: 0.7069 - val_accuracy: 0.7069\n",
      "Epoch 79/100\n",
      "19/19 [==============================] - 2s 79ms/step - loss: 0.0620 - categorical_accuracy: 0.9802 - accuracy: 0.9802 - val_loss: 1.3053 - val_categorical_accuracy: 0.7414 - val_accuracy: 0.7414\n",
      "Epoch 80/100\n",
      "19/19 [==============================] - 2s 83ms/step - loss: 0.0714 - categorical_accuracy: 0.9785 - accuracy: 0.9785 - val_loss: 1.6982 - val_categorical_accuracy: 0.6552 - val_accuracy: 0.6552\n",
      "Epoch 81/100\n",
      "19/19 [==============================] - 2s 100ms/step - loss: 0.0639 - categorical_accuracy: 0.9802 - accuracy: 0.9802 - val_loss: 1.3226 - val_categorical_accuracy: 0.7414 - val_accuracy: 0.7414\n",
      "Epoch 82/100\n",
      "19/19 [==============================] - 2s 81ms/step - loss: 0.0382 - categorical_accuracy: 0.9917 - accuracy: 0.9917 - val_loss: 1.6112 - val_categorical_accuracy: 0.6724 - val_accuracy: 0.6724\n",
      "Epoch 83/100\n",
      "19/19 [==============================] - 1s 78ms/step - loss: 0.0459 - categorical_accuracy: 0.9884 - accuracy: 0.9884 - val_loss: 1.3367 - val_categorical_accuracy: 0.7241 - val_accuracy: 0.7241\n",
      "Epoch 84/100\n",
      "19/19 [==============================] - 2s 82ms/step - loss: 0.0388 - categorical_accuracy: 0.9868 - accuracy: 0.9868 - val_loss: 1.6343 - val_categorical_accuracy: 0.6897 - val_accuracy: 0.6897\n",
      "Epoch 85/100\n",
      "19/19 [==============================] - 2s 79ms/step - loss: 0.0289 - categorical_accuracy: 0.9934 - accuracy: 0.9934 - val_loss: 1.6156 - val_categorical_accuracy: 0.7069 - val_accuracy: 0.7069\n",
      "Epoch 86/100\n",
      "19/19 [==============================] - 2s 84ms/step - loss: 0.0355 - categorical_accuracy: 0.9901 - accuracy: 0.9901 - val_loss: 1.5440 - val_categorical_accuracy: 0.7586 - val_accuracy: 0.7586\n",
      "Epoch 87/100\n",
      "19/19 [==============================] - 2s 84ms/step - loss: 0.0519 - categorical_accuracy: 0.9818 - accuracy: 0.9818 - val_loss: 1.2733 - val_categorical_accuracy: 0.7586 - val_accuracy: 0.7586\n",
      "Epoch 88/100\n",
      "19/19 [==============================] - 3s 184ms/step - loss: 0.0420 - categorical_accuracy: 0.9851 - accuracy: 0.9851 - val_loss: 1.4864 - val_categorical_accuracy: 0.7241 - val_accuracy: 0.7241\n",
      "Epoch 89/100\n",
      "19/19 [==============================] - 1s 79ms/step - loss: 0.0489 - categorical_accuracy: 0.9901 - accuracy: 0.9901 - val_loss: 1.5906 - val_categorical_accuracy: 0.7069 - val_accuracy: 0.7069\n",
      "Epoch 90/100\n",
      "19/19 [==============================] - 2s 84ms/step - loss: 0.0496 - categorical_accuracy: 0.9785 - accuracy: 0.9785 - val_loss: 1.3659 - val_categorical_accuracy: 0.7241 - val_accuracy: 0.7241\n",
      "Epoch 91/100\n",
      "19/19 [==============================] - 2s 89ms/step - loss: 0.0384 - categorical_accuracy: 0.9901 - accuracy: 0.9901 - val_loss: 1.3068 - val_categorical_accuracy: 0.7414 - val_accuracy: 0.7414\n",
      "Epoch 92/100\n",
      "19/19 [==============================] - 2s 86ms/step - loss: 0.0352 - categorical_accuracy: 0.9901 - accuracy: 0.9901 - val_loss: 1.7023 - val_categorical_accuracy: 0.6897 - val_accuracy: 0.6897\n",
      "Epoch 93/100\n",
      "19/19 [==============================] - 2s 84ms/step - loss: 0.0397 - categorical_accuracy: 0.9884 - accuracy: 0.9884 - val_loss: 1.4869 - val_categorical_accuracy: 0.7241 - val_accuracy: 0.7241\n",
      "Epoch 94/100\n",
      "19/19 [==============================] - 2s 79ms/step - loss: 0.0537 - categorical_accuracy: 0.9835 - accuracy: 0.9835 - val_loss: 1.3465 - val_categorical_accuracy: 0.7069 - val_accuracy: 0.7069\n",
      "Epoch 95/100\n",
      "19/19 [==============================] - 2s 81ms/step - loss: 0.0515 - categorical_accuracy: 0.9802 - accuracy: 0.9802 - val_loss: 1.3230 - val_categorical_accuracy: 0.7241 - val_accuracy: 0.7241\n",
      "Epoch 96/100\n",
      "19/19 [==============================] - 2s 79ms/step - loss: 0.0533 - categorical_accuracy: 0.9851 - accuracy: 0.9851 - val_loss: 1.0681 - val_categorical_accuracy: 0.7759 - val_accuracy: 0.7759\n",
      "Epoch 97/100\n",
      "19/19 [==============================] - 1s 77ms/step - loss: 0.0395 - categorical_accuracy: 0.9917 - accuracy: 0.9917 - val_loss: 1.3879 - val_categorical_accuracy: 0.7586 - val_accuracy: 0.7586\n",
      "Epoch 98/100\n",
      "19/19 [==============================] - 2s 84ms/step - loss: 0.0445 - categorical_accuracy: 0.9868 - accuracy: 0.9868 - val_loss: 1.3945 - val_categorical_accuracy: 0.7414 - val_accuracy: 0.7414\n",
      "Epoch 99/100\n",
      "19/19 [==============================] - 2s 81ms/step - loss: 0.0425 - categorical_accuracy: 0.9851 - accuracy: 0.9851 - val_loss: 1.5360 - val_categorical_accuracy: 0.7241 - val_accuracy: 0.7241\n",
      "Epoch 100/100\n",
      "19/19 [==============================] - 1s 78ms/step - loss: 0.0503 - categorical_accuracy: 0.9818 - accuracy: 0.9818 - val_loss: 1.3454 - val_categorical_accuracy: 0.7414 - val_accuracy: 0.7414\n"
     ]
    },
    {
     "data": {
      "text/plain": [
       "<tensorflow.python.keras.callbacks.History at 0x270b124c248>"
      ]
     },
     "execution_count": 15,
     "metadata": {},
     "output_type": "execute_result"
    }
   ],
   "source": [
    "cnn.fit(x=training_set,validation_data=test_set,epochs=100)"
   ]
  },
  {
   "cell_type": "code",
   "execution_count": 33,
   "metadata": {},
   "outputs": [],
   "source": [
    "import numpy as np\n",
    "from keras.preprocessing import image"
   ]
  },
  {
   "cell_type": "code",
   "execution_count": 19,
   "metadata": {},
   "outputs": [
    {
     "name": "stdout",
     "output_type": "stream",
     "text": [
      "{'audi': 0, 'lamborghini': 1, 'mercedes': 2}\n"
     ]
    }
   ],
   "source": [
    "print(training_set.class_indices)"
   ]
  },
  {
   "cell_type": "code",
   "execution_count": 42,
   "metadata": {},
   "outputs": [
    {
     "data": {
      "application/javascript": [
       "\n",
       "        if (window._pyforest_update_imports_cell) { window._pyforest_update_imports_cell('import os'); }\n",
       "    "
      ],
      "text/plain": [
       "<IPython.core.display.Javascript object>"
      ]
     },
     "metadata": {},
     "output_type": "display_data"
    },
    {
     "data": {
      "application/javascript": [
       "\n",
       "        if (window._pyforest_update_imports_cell) { window._pyforest_update_imports_cell('import os'); }\n",
       "    "
      ],
      "text/plain": [
       "<IPython.core.display.Javascript object>"
      ]
     },
     "metadata": {},
     "output_type": "display_data"
    },
    {
     "data": {
      "application/javascript": [
       "\n",
       "        if (window._pyforest_update_imports_cell) { window._pyforest_update_imports_cell('import os'); }\n",
       "    "
      ],
      "text/plain": [
       "<IPython.core.display.Javascript object>"
      ]
     },
     "metadata": {},
     "output_type": "display_data"
    },
    {
     "data": {
      "application/javascript": [
       "\n",
       "        if (window._pyforest_update_imports_cell) { window._pyforest_update_imports_cell('import os'); }\n",
       "    "
      ],
      "text/plain": [
       "<IPython.core.display.Javascript object>"
      ]
     },
     "metadata": {},
     "output_type": "display_data"
    },
    {
     "data": {
      "application/javascript": [
       "\n",
       "        if (window._pyforest_update_imports_cell) { window._pyforest_update_imports_cell('import os'); }\n",
       "    "
      ],
      "text/plain": [
       "<IPython.core.display.Javascript object>"
      ]
     },
     "metadata": {},
     "output_type": "display_data"
    },
    {
     "data": {
      "application/javascript": [
       "\n",
       "        if (window._pyforest_update_imports_cell) { window._pyforest_update_imports_cell('import os'); }\n",
       "    "
      ],
      "text/plain": [
       "<IPython.core.display.Javascript object>"
      ]
     },
     "metadata": {},
     "output_type": "display_data"
    },
    {
     "data": {
      "application/javascript": [
       "\n",
       "        if (window._pyforest_update_imports_cell) { window._pyforest_update_imports_cell('import os'); }\n",
       "    "
      ],
      "text/plain": [
       "<IPython.core.display.Javascript object>"
      ]
     },
     "metadata": {},
     "output_type": "display_data"
    },
    {
     "data": {
      "application/javascript": [
       "\n",
       "        if (window._pyforest_update_imports_cell) { window._pyforest_update_imports_cell('import os'); }\n",
       "    "
      ],
      "text/plain": [
       "<IPython.core.display.Javascript object>"
      ]
     },
     "metadata": {},
     "output_type": "display_data"
    },
    {
     "data": {
      "application/javascript": [
       "\n",
       "        if (window._pyforest_update_imports_cell) { window._pyforest_update_imports_cell('import os'); }\n",
       "    "
      ],
      "text/plain": [
       "<IPython.core.display.Javascript object>"
      ]
     },
     "metadata": {},
     "output_type": "display_data"
    },
    {
     "name": "stdout",
     "output_type": "stream",
     "text": [
      "lambo\n",
      "mercedes\n",
      "lambo\n",
      "lambo\n",
      "audi\n",
      "mercedes\n",
      "mercedes\n"
     ]
    }
   ],
   "source": [
    "images = []\n",
    "img_folder = os.path.join('PredictionFolder')\n",
    "img_files = os.listdir(img_folder)\n",
    "img_files = [os.path.join(img_folder, f) for f in img_files]\n",
    "# print(img_files)\n",
    "for img in img_files:\n",
    "    img = image.load_img(img, target_size=(64, 64))\n",
    "    img = image.img_to_array(img)\n",
    "    img = np.expand_dims(img, axis=0)\n",
    "    images.append(img)\n",
    "\n",
    "# stack up images list to pass for prediction\n",
    "images = np.vstack(images)\n",
    "# print(images)\n",
    "classes = cnn.predict_classes(images, batch_size=32)\n",
    "for i in classes:\n",
    "    if i==0:\n",
    "        print('audi')\n",
    "    elif i==1:\n",
    "        print('lambo')\n",
    "    else:\n",
    "        print('mercedes')\n",
    "#print(classes)"
   ]
  },
  {
   "cell_type": "code",
   "execution_count": null,
   "metadata": {},
   "outputs": [],
   "source": []
  }
 ],
 "metadata": {
  "kernelspec": {
   "display_name": "Python 3",
   "language": "python",
   "name": "python3"
  },
  "language_info": {
   "codemirror_mode": {
    "name": "ipython",
    "version": 3
   },
   "file_extension": ".py",
   "mimetype": "text/x-python",
   "name": "python",
   "nbconvert_exporter": "python",
   "pygments_lexer": "ipython3",
   "version": "3.7.4"
  }
 },
 "nbformat": 4,
 "nbformat_minor": 2
}
